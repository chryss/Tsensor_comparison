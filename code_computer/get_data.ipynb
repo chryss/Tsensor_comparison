{
 "cells": [
  {
   "cell_type": "markdown",
   "metadata": {},
   "source": [
    "# How to get data from pyboard via serial connection with Python"
   ]
  },
  {
   "cell_type": "code",
   "execution_count": null,
   "metadata": {},
   "outputs": [],
   "source": [
    "import serial\n",
    "import datetime as dt"
   ]
  },
  {
   "cell_type": "code",
   "execution_count": null,
   "metadata": {},
   "outputs": [],
   "source": [
    "outfn = \"../data/output_from_board/tempsensors.dat\""
   ]
  },
  {
   "cell_type": "markdown",
   "metadata": {},
   "source": [
    "First let's set up the serial connection. Get the correct USBserial device with `ls /dev/tty*usb*` on OS X. See [this Adafruit tutorial](https://learn.adafruit.com/ftdi-friend/com-slash-serial-port-name) for more on how to find your port.  "
   ]
  },
  {
   "cell_type": "code",
   "execution_count": null,
   "metadata": {},
   "outputs": [],
   "source": [
    "ser = serial.Serial(\"/dev/tty.usbmodemFA12112\")"
   ]
  },
  {
   "cell_type": "markdown",
   "metadata": {},
   "source": [
    "A function to test receiving data in real time."
   ]
  },
  {
   "cell_type": "code",
   "execution_count": null,
   "metadata": {},
   "outputs": [],
   "source": [
    "def testing():\n",
    "    while True:\n",
    "        bytesToRead = ser.inWaiting()\n",
    "        if bytesToRead:\n",
    "            newbytes = ser.read(bytesToRead)\n",
    "            print(newbytes.decode())"
   ]
  },
  {
   "cell_type": "code",
   "execution_count": null,
   "metadata": {},
   "outputs": [],
   "source": [
    "testing()"
   ]
  },
  {
   "cell_type": "markdown",
   "metadata": {},
   "source": [
    "A funciton to write data to a file, doing some very basic data cleaning. "
   ]
  },
  {
   "cell_type": "code",
   "execution_count": null,
   "metadata": {},
   "outputs": [],
   "source": [
    "def get_data():\n",
    "    with open(outfn, \"w\") as dst:\n",
    "        dst.write('\\t'.join(['time_AKDT', 'DHT11_T', 'DHT11_T', 'P36_T', 'SHT31_T', 'SHT31_H']) + '\\n')\n",
    "    while True:\n",
    "        bytesToRead = ser.inWaiting()\n",
    "        if bytesToRead:\n",
    "            timestamp = dt.datetime.now().strftime(\"%Y%m%d_%H%M%S\")\n",
    "            newbytes = ser.read(bytesToRead)\n",
    "            newstr = newbytes.decode()\n",
    "            if len(newstr.split('\\t')) == 5:    # If not, data got probably cut up in transit. Discard.\n",
    "                print(newstr)\n",
    "                with open(outfn, \"a\") as dst:\n",
    "                    dst.write(\"{}\\t{}\\n\".format(timestamp, newstr))"
   ]
  },
  {
   "cell_type": "code",
   "execution_count": null,
   "metadata": {},
   "outputs": [],
   "source": [
    "get_data()"
   ]
  },
  {
   "cell_type": "markdown",
   "metadata": {},
   "source": [
    "You might want to close your serial connection. "
   ]
  },
  {
   "cell_type": "code",
   "execution_count": null,
   "metadata": {},
   "outputs": [],
   "source": [
    "ser.close()"
   ]
  }
 ],
 "metadata": {
  "kernelspec": {
   "display_name": "Python 3",
   "language": "python",
   "name": "python3"
  },
  "language_info": {
   "codemirror_mode": {
    "name": "ipython",
    "version": 3
   },
   "file_extension": ".py",
   "mimetype": "text/x-python",
   "name": "python",
   "nbconvert_exporter": "python",
   "pygments_lexer": "ipython3",
   "version": "3.6.0"
  }
 },
 "nbformat": 4,
 "nbformat_minor": 2
}
