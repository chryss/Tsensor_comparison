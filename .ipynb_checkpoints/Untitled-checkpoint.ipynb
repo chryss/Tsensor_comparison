{
 "cells": [
  {
   "cell_type": "code",
   "execution_count": 54,
   "metadata": {},
   "outputs": [],
   "source": [
    "import serial\n",
    "import datetime as dt"
   ]
  },
  {
   "cell_type": "code",
   "execution_count": null,
   "metadata": {},
   "outputs": [],
   "source": [
    "ser = serial.Serial(\"/dev/tty.usbmodemFA12112\")"
   ]
  },
  {
   "cell_type": "code",
   "execution_count": 81,
   "metadata": {},
   "outputs": [],
   "source": [
    "outfn = \"tempsensors.dat\"\n",
    "infn = \"data/input_for_plot/tempsensors_cleaned.dat\""
   ]
  },
  {
   "cell_type": "code",
   "execution_count": 77,
   "metadata": {},
   "outputs": [],
   "source": [
    "def testing():\n",
    "    while True:\n",
    "        bytesToRead = ser.inWaiting()\n",
    "        if bytesToRead:\n",
    "            newbytes = ser.read(bytesToRead)\n",
    "            print(newbytes.decode())\n"
   ]
  },
  {
   "cell_type": "code",
   "execution_count": 74,
   "metadata": {},
   "outputs": [],
   "source": [
    "def get_data():\n",
    "    with open(outfn, \"w\") as dst:\n",
    "        dst.write('\\t'.join(['time_AKDT', 'DHT11_T', 'DHT11_T', 'P36_T', 'SHT31_T', 'SHT31_H']) + '\\n')\n",
    "    while True:\n",
    "        bytesToRead = ser.inWaiting()\n",
    "        if bytesToRead:\n",
    "            timestamp = dt.datetime.now().strftime(\"%Y%m%d_%H%M%S\")\n",
    "            newbytes = ser.read(bytesToRead)\n",
    "            newstr = newbytes.decode()\n",
    "            if len(newstr.split('\\t')) == 5:\n",
    "                print(newstr)\n",
    "                with open(outfn, \"a\") as dst:\n",
    "                    dst.write(\"{}\\t{}\\n\".format(timestamp, newstr))"
   ]
  },
  {
   "cell_type": "code",
   "execution_count": 79,
   "metadata": {},
   "outputs": [
    {
     "name": "stdout",
     "output_type": "stream",
     "text": [
      "23\t23\t22.37\t23.25\t20.2323\t21\t22.21\t23.53\t23.9023\t20\t22.29\t23.45\t20.1323\t18\t22.53\t23.38\t19.0923\t17\t22.29\t23.35\t18.5823\t16\t-47.74\t23.28\t18.2523\t15\t22.85\t23.25\t18.5123\t15\t21.88\t23.21\t18.2623\t15\t22.29\t23.21\t18.3423\t14\t22.45\t23.15\t18.4723\t14\t22.53\t23.20\t19.4123\t15\t21.48\t23.24\t18.7423\t14\t21.64\t23.25\t18.8623\t14\t22.53\t23.21\t19.8023\t15\t21.96\t23.10\t18.81\n",
      "23\t15\t22.61\t23.10\t19.29\n",
      "23\t15\t22.53\t23.10\t19.96\n",
      "23\t15\t22.53\t23.10\t19.17\n",
      "23\t15\t22.69\t23.07\t18.66\n",
      "23\t14\t21.72\t23.01\t18.92\n",
      "23\t14\t22.21\t23.52\t56.84\n",
      "23\t27\t-4.87\t23.27\t25.50\n",
      "23\t23\t22.29\t23.15\t20.52\n",
      "23\t20\t21.64\t23.01\t19.25\n",
      "23\t18\t22.53\t22.91\t18.77\n",
      "23\t16\t22.29\t22.78\t18.73\n",
      "23\t15\t21.96\t22.66\t18.62\n",
      "23\t15\t21.16\t22.55\t18.70\n",
      "23\t14\t21.96\t22.50\t18.73\n",
      "22\t14\t20.03\t22.39\t18.88\n",
      "22\t14\t21.96\t22.36\t18.98\n",
      "22\t15\t21.64\t22.27\t18.89\n",
      "22\t14\t21.88\t22.21\t19.08\n",
      "22\t15\t21.24\t22.17\t19.15\n",
      "22\t15\t21.88\t22.13\t19.14\n",
      "22\t15\t20.03\t22.01\t19.02\n",
      "22\t15\t21.72\t22.00\t19.05\n",
      "22\t15\t21.64\n",
      "\t21.96\t19.23\n",
      "22\t15\t21.32\t21.97\t19.31\n",
      "22\t15\t21.56\t21.96\t19.27\n",
      "22\t15\t20.67\t21.93\t19.10\n",
      "21\t15\t20.84\t21.81\t19.08\n",
      "22\t15\t20.27\t21.76\t19.11\n",
      "21\t15\t21.56\t21.76\t19.24\n",
      "21\t15\t19.71\t21.69\t19.23\n",
      "21\t15\t21.32\t21.68\t19.40\n",
      "21\t15\t20.75\t21.62\t19.51\n",
      "21\t15\t21.32\t21.59\t19.42\n",
      "21\t15\t21.00\t21.51\t19.47\n",
      "21\t15\t20.19\t21.48\t19.41\n",
      "21\t15\t21.48\t21.35\t19.41\n",
      "21\t15\t20.67\t21.40\t19.49\n",
      "21\t15\t20.35\t21.37\t19.48\n",
      "21\t15\t20.67\t21.31\t19.39\n",
      "21\t16\t20.92\t21.31\t19.54\n",
      "21\t16\t20.67\t21.31\t19.62\n",
      "21\t16\t20.59\t21.28\t19.55\n",
      "21\t16\t20.03\t21.30\t19.60\n",
      "21\t16\t20.59\t21.27\t19.58\n",
      "21\t16\t20.67\t21.22\t19.50\n",
      "21\t16\t20.75\t21.14\t19.56\n",
      "21\t16\t21.32\t21.13\t19.75\n",
      "21\t16\t20.59\t21.17\t19.69\n",
      "20\t15\t20.51\t21.19\t19.79\n",
      "20\t15\t21.00\t21.19\t19.66\n",
      "20\t15\t20.19\t21.24\t20.05\n",
      "20\t15\t20.43\t21.42\t27.85\n",
      "20\t20\t21.00\t21.59\t28.35\n",
      "21\t24\t20.19\t21.73\t27.42\n",
      "21\t25\t19.63\t21.77\t27.20\n"
     ]
    },
    {
     "ename": "KeyboardInterrupt",
     "evalue": "",
     "output_type": "error",
     "traceback": [
      "\u001b[0;31m---------------------------------------------------------------------------\u001b[0m",
      "\u001b[0;31mKeyboardInterrupt\u001b[0m                         Traceback (most recent call last)",
      "\u001b[0;32m<ipython-input-79-a9ccd714e728>\u001b[0m in \u001b[0;36m<module>\u001b[0;34m()\u001b[0m\n\u001b[0;32m----> 1\u001b[0;31m \u001b[0mtesting\u001b[0m\u001b[0;34m(\u001b[0m\u001b[0;34m)\u001b[0m\u001b[0;34m\u001b[0m\u001b[0m\n\u001b[0m",
      "\u001b[0;32m<ipython-input-77-97ea4bac7ed7>\u001b[0m in \u001b[0;36mtesting\u001b[0;34m()\u001b[0m\n\u001b[1;32m      1\u001b[0m \u001b[0;32mdef\u001b[0m \u001b[0mtesting\u001b[0m\u001b[0;34m(\u001b[0m\u001b[0;34m)\u001b[0m\u001b[0;34m:\u001b[0m\u001b[0;34m\u001b[0m\u001b[0m\n\u001b[1;32m      2\u001b[0m     \u001b[0;32mwhile\u001b[0m \u001b[0;32mTrue\u001b[0m\u001b[0;34m:\u001b[0m\u001b[0;34m\u001b[0m\u001b[0m\n\u001b[0;32m----> 3\u001b[0;31m         \u001b[0mbytesToRead\u001b[0m \u001b[0;34m=\u001b[0m \u001b[0mser\u001b[0m\u001b[0;34m.\u001b[0m\u001b[0minWaiting\u001b[0m\u001b[0;34m(\u001b[0m\u001b[0;34m)\u001b[0m\u001b[0;34m\u001b[0m\u001b[0m\n\u001b[0m\u001b[1;32m      4\u001b[0m         \u001b[0;32mif\u001b[0m \u001b[0mbytesToRead\u001b[0m\u001b[0;34m:\u001b[0m\u001b[0;34m\u001b[0m\u001b[0m\n\u001b[1;32m      5\u001b[0m             \u001b[0mnewbytes\u001b[0m \u001b[0;34m=\u001b[0m \u001b[0mser\u001b[0m\u001b[0;34m.\u001b[0m\u001b[0mread\u001b[0m\u001b[0;34m(\u001b[0m\u001b[0mbytesToRead\u001b[0m\u001b[0;34m)\u001b[0m\u001b[0;34m\u001b[0m\u001b[0m\n",
      "\u001b[0;32m~/anaconda2/envs/sensorstuff3/lib/python3.6/site-packages/serial/serialutil.py\u001b[0m in \u001b[0;36minWaiting\u001b[0;34m(self)\u001b[0m\n\u001b[1;32m    588\u001b[0m \u001b[0;34m\u001b[0m\u001b[0m\n\u001b[1;32m    589\u001b[0m     \u001b[0;32mdef\u001b[0m \u001b[0minWaiting\u001b[0m\u001b[0;34m(\u001b[0m\u001b[0mself\u001b[0m\u001b[0;34m)\u001b[0m\u001b[0;34m:\u001b[0m\u001b[0;34m\u001b[0m\u001b[0m\n\u001b[0;32m--> 590\u001b[0;31m         \u001b[0;32mreturn\u001b[0m \u001b[0mself\u001b[0m\u001b[0;34m.\u001b[0m\u001b[0min_waiting\u001b[0m\u001b[0;34m\u001b[0m\u001b[0m\n\u001b[0m\u001b[1;32m    591\u001b[0m \u001b[0;34m\u001b[0m\u001b[0m\n\u001b[1;32m    592\u001b[0m     \u001b[0;32mdef\u001b[0m \u001b[0msendBreak\u001b[0m\u001b[0;34m(\u001b[0m\u001b[0mself\u001b[0m\u001b[0;34m,\u001b[0m \u001b[0mduration\u001b[0m\u001b[0;34m=\u001b[0m\u001b[0;36m0.25\u001b[0m\u001b[0;34m)\u001b[0m\u001b[0;34m:\u001b[0m\u001b[0;34m\u001b[0m\u001b[0m\n",
      "\u001b[0;32m~/anaconda2/envs/sensorstuff3/lib/python3.6/site-packages/serial/serialposix.py\u001b[0m in \u001b[0;36min_waiting\u001b[0;34m(self)\u001b[0m\n\u001b[1;32m    465\u001b[0m         \u001b[0;34m\"\"\"Return the number of bytes currently in the input buffer.\"\"\"\u001b[0m\u001b[0;34m\u001b[0m\u001b[0m\n\u001b[1;32m    466\u001b[0m         \u001b[0;31m#~ s = fcntl.ioctl(self.fd, termios.FIONREAD, TIOCM_zero_str)\u001b[0m\u001b[0;34m\u001b[0m\u001b[0;34m\u001b[0m\u001b[0m\n\u001b[0;32m--> 467\u001b[0;31m         \u001b[0ms\u001b[0m \u001b[0;34m=\u001b[0m \u001b[0mfcntl\u001b[0m\u001b[0;34m.\u001b[0m\u001b[0mioctl\u001b[0m\u001b[0;34m(\u001b[0m\u001b[0mself\u001b[0m\u001b[0;34m.\u001b[0m\u001b[0mfd\u001b[0m\u001b[0;34m,\u001b[0m \u001b[0mTIOCINQ\u001b[0m\u001b[0;34m,\u001b[0m \u001b[0mTIOCM_zero_str\u001b[0m\u001b[0;34m)\u001b[0m\u001b[0;34m\u001b[0m\u001b[0m\n\u001b[0m\u001b[1;32m    468\u001b[0m         \u001b[0;32mreturn\u001b[0m \u001b[0mstruct\u001b[0m\u001b[0;34m.\u001b[0m\u001b[0munpack\u001b[0m\u001b[0;34m(\u001b[0m\u001b[0;34m'I'\u001b[0m\u001b[0;34m,\u001b[0m \u001b[0ms\u001b[0m\u001b[0;34m)\u001b[0m\u001b[0;34m[\u001b[0m\u001b[0;36m0\u001b[0m\u001b[0;34m]\u001b[0m\u001b[0;34m\u001b[0m\u001b[0m\n\u001b[1;32m    469\u001b[0m \u001b[0;34m\u001b[0m\u001b[0m\n",
      "\u001b[0;31mKeyboardInterrupt\u001b[0m: "
     ]
    }
   ],
   "source": [
    "testing()"
   ]
  },
  {
   "cell_type": "code",
   "execution_count": 50,
   "metadata": {},
   "outputs": [],
   "source": [
    "ser.close()"
   ]
  },
  {
   "cell_type": "markdown",
   "metadata": {},
   "source": [
    "---"
   ]
  },
  {
   "cell_type": "code",
   "execution_count": 85,
   "metadata": {},
   "outputs": [
    {
     "ename": "ModuleNotFoundError",
     "evalue": "No module named 'seaborn'",
     "output_type": "error",
     "traceback": [
      "\u001b[0;31m---------------------------------------------------------------------------\u001b[0m",
      "\u001b[0;31mModuleNotFoundError\u001b[0m                       Traceback (most recent call last)",
      "\u001b[0;32m<ipython-input-85-4204cce884a5>\u001b[0m in \u001b[0;36m<module>\u001b[0;34m()\u001b[0m\n\u001b[1;32m      1\u001b[0m \u001b[0;32mimport\u001b[0m \u001b[0mpandas\u001b[0m \u001b[0;32mas\u001b[0m \u001b[0mpd\u001b[0m\u001b[0;34m\u001b[0m\u001b[0m\n\u001b[0;32m----> 2\u001b[0;31m \u001b[0;32mimport\u001b[0m \u001b[0mseaborn\u001b[0m \u001b[0;32mas\u001b[0m \u001b[0msds\u001b[0m\u001b[0;34m\u001b[0m\u001b[0m\n\u001b[0m",
      "\u001b[0;31mModuleNotFoundError\u001b[0m: No module named 'seaborn'"
     ]
    }
   ],
   "source": [
    "%matplotlib inline\n",
    "import pandas as pd\n",
    "import seaborn as sds"
   ]
  },
  {
   "cell_type": "code",
   "execution_count": 84,
   "metadata": {},
   "outputs": [],
   "source": [
    "data = pd.read_csv(infn, delimiter='\\t')"
   ]
  },
  {
   "cell_type": "code",
   "execution_count": null,
   "metadata": {},
   "outputs": [],
   "source": []
  }
 ],
 "metadata": {
  "kernelspec": {
   "display_name": "Python 3",
   "language": "python",
   "name": "python3"
  },
  "language_info": {
   "codemirror_mode": {
    "name": "ipython",
    "version": 3
   },
   "file_extension": ".py",
   "mimetype": "text/x-python",
   "name": "python",
   "nbconvert_exporter": "python",
   "pygments_lexer": "ipython3",
   "version": "3.6.5"
  }
 },
 "nbformat": 4,
 "nbformat_minor": 2
}
